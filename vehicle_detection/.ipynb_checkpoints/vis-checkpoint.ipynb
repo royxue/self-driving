{
 "cells": [
  {
   "cell_type": "code",
   "execution_count": null,
   "metadata": {
    "collapsed": true,
    "deletable": true,
    "editable": true
   },
   "outputs": [],
   "source": [
    "# Vehcile Detection\n",
    "import cv2\n",
    "import glob\n",
    "import matplotlib.image as mpimg\n",
    "import matplotlib.pyplot as plt\n",
    "import numpy as np\n",
    "\n",
    "from skimage.feature import hog\n",
    "from sklearn.svm import LinearSVC\n",
    "from sklearn.preprocessing import StandardScaler"
   ]
  },
  {
   "cell_type": "code",
   "execution_count": null,
   "metadata": {
    "collapsed": true,
    "deletable": true,
    "editable": true
   },
   "outputs": [],
   "source": [
    "# Data Prepare\n",
    "test_images = glob.glob('./test_images/*.jpg')"
   ]
  },
  {
   "cell_type": "code",
   "execution_count": null,
   "metadata": {
    "collapsed": true,
    "deletable": true,
    "editable": true
   },
   "outputs": [],
   "source": [
    "# Perform a Histogram of Oriented Gradients (HOG) feature extraction\n",
    "# on a labeled training set of images and train a classifier Linear \n",
    "# SVM classifier\n",
    "\n",
    "def get_hog_features(img, orient, pix_per_cell, cell_per_block, vis=False, feature_vec=True):\n",
    "    if vis == True:\n",
    "        features, hog_image = hog(img, orientation=orient, \n",
    "                          pixels_per_cell=(pix_per_cell, pix_per_cell),\n",
    "                          cells_per_block=(cell_per_block, cell_per_block),\n",
    "                          visualise=True, feature_vec=False)\n",
    "        return features, hog_image\n",
    "    else:\n",
    "        features = hog(img, orientation=orient, \n",
    "                  pixels_per_cell=(pix_per_cell, pix_per_cell),\n",
    "                  cells_per_block=(cell_per_block, cell_per_block),\n",
    "                  visualise=False, feature_vec=False)\n",
    "        return features\n",
    "\n",
    "def bin_feature(img, size=(32, 32)):\n",
    "    features = cv2.resize(img, size).ravel()\n",
    "    return features\n",
    "\n",
    "def color_hist(img, nbins=32, bin_range=(0, 256)):\n",
    "    channel1_hist = np.histogram(img[:,:,0], bins=nbins, range=bins_range)\n",
    "    channel2_hist = np.histogram(img[:,:,1], bins=nbins, range=bins_range)\n",
    "    channel3_hist = np.histogram(img[:,:,2], bins=nbins, range=bins_range)\n",
    "    # Concatenate the histograms into a single feature vector\n",
    "    hist_features = np.concatenate((channel1_hist[0], channel2_hist[0], channel3_hist[0]))\n",
    "    # Return the individual histograms, bin_centers and feature vector\n",
    "    return hist_features\n"
   ]
  }
 ],
 "metadata": {
  "kernelspec": {
   "display_name": "Python 3",
   "language": "python",
   "name": "python3"
  },
  "language_info": {
   "codemirror_mode": {
    "name": "ipython",
    "version": 3
   },
   "file_extension": ".py",
   "mimetype": "text/x-python",
   "name": "python",
   "nbconvert_exporter": "python",
   "pygments_lexer": "ipython3",
   "version": "3.5.2"
  },
  "widgets": {
   "state": {},
   "version": "1.1.2"
  }
 },
 "nbformat": 4,
 "nbformat_minor": 2
}
