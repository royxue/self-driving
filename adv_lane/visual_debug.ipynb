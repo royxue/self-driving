{
 "cells": [
  {
   "cell_type": "code",
   "execution_count": null,
   "metadata": {
    "collapsed": true,
    "deletable": true,
    "editable": true
   },
   "outputs": [],
   "source": [
    "import numpy as np\n",
    "import cv2\n",
    "import glob\n",
    "import matplotlib.pyplot as plt\n",
    "\n",
    "from main import *\n",
    "%matplotlib inline"
   ]
  },
  {
   "cell_type": "code",
   "execution_count": null,
   "metadata": {
    "collapsed": false,
    "deletable": true,
    "editable": true
   },
   "outputs": [],
   "source": [
    "test = cv2.imread('./test1.jpg')\n",
    "objp, imgp = cal_calib_points('./camera_cal/calibration*.jpg')\n",
    "undist = cal_undistort(test, objp, imgp)\n",
    "plt.imshow(undist)"
   ]
  },
  {
   "cell_type": "code",
   "execution_count": null,
   "metadata": {
    "collapsed": true
   },
   "outputs": [],
   "source": [
    "# Compute Camera Calibration Matrix\n",
    "def cal_calib_points(filepath):\n",
    "    objp = np.zeros((6*9, 3), np.float32)\n",
    "    objp[:,:2]  = np.mgrid[0:9, 0:6].T.reshape(-1, 2)\n",
    "\n",
    "    objpoints = [] # 3d points in real world\n",
    "    imgpoints = [] # 2d points in image plane\n",
    "\n",
    "    images = glob.glob(filepath)\n",
    "\n",
    "    for fname in images:\n",
    "        img = cv2.imread(fname)\n",
    "        gray = cv2.cvtColor(img, cv2.COLOR_BGR2GRAY)\n",
    "\n",
    "        ret, corners = cv2.findChessboardCorners(gray, (9,6), None)\n",
    "\n",
    "        if ret == True:\n",
    "            objpoints.append(objp)\n",
    "            imgpoints.append(corners)\n",
    "\n",
    "    return objpoints, imgpoints\n",
    "\n",
    "# Apply distortation on raw images\n",
    "def cal_undistort(img, objp, imgp):\n",
    "    gray = cv2.cvtColor(img, cv2.COLOR_BGR2GRAY)\n",
    "    ret, mtx, dist, rvecs, tvecs = cv2.calibrateCamera(objp, imgp, gray.shape[::-1], None, None)\n",
    "\n",
    "    if ret:\n",
    "        dst = cv2.undistort(img, mtx, dist, None, mtx)\n",
    "        return dst\n",
    "    else:\n",
    "        return None\n",
    "\n",
    "# Compute thresholded b-images\n",
    "def hls_thresh(img, thresh=(0, 255)):\n",
    "    # Get S Channel from the HLS image\n",
    "    hls = cv2.cvtColor(img, cv2.COLOR_BGR2HLS)\n",
    "    s_channel = hls[:,:,2]\n",
    "\n",
    "    sbin = np.zeros_like(s_channel)\n",
    "    sbin[(s_channel>=thresh[0]) & (s_channel<=thresh[1])] = 1\n",
    "\n",
    "    return sbin\n",
    "\n",
    "def cal_sobel(img, sobel_kernel=3):\n",
    "    gray = cv2.cvtColor(img, cv2.COLOR_BGR2GRAY)\n",
    "\n",
    "    sobelx = cv2.Sobel(gray, -1, 1, 0, ksize=sobel_kernel)\n",
    "    sobely = cv2.Sobel(gray, -1, 0, 1, ksize=sobel_kernel)\n",
    "\n",
    "    return sobelx, sobely\n",
    "\n",
    "def sobel_thresh(sobel, thresh=(0, 255)):\n",
    "    abs_sobel = np.absolute(sobel)\n",
    "    scaled_sobel = np.uint8(255*abs_sobel/np.max(abs_sobel))\n",
    "\n",
    "    sbin = np.zeros_like(scaled_sobel)\n",
    "    sbin[(scaled_sobel>=thresh[0])&(scaled_sobel<=thresh[1])] = 1\n",
    "\n",
    "    return sbin\n",
    "\n",
    "def mag_thresh(sobelx, sobely, thresh=(0, 255)):\n",
    "    gradmag = np.sqrt(sobelx**2+sobely**2)\n",
    "    gradmag = np.uint8(255*gradmag/np.max(gradmag))\n",
    "\n",
    "    sbin = np.zeros_like(gradmag)\n",
    "    sbin[(gradmag>=thresh[0])&(gradmag<=thresh[1])] = 1\n",
    "\n",
    "    return sbin\n",
    "\n",
    "def dir_thresh(sobelx, sobely, thresh=(0, np.pi/2)):\n",
    "    absgraddir = np.arctan2(np.absolute(sobelx), np.absolute(sobely))\n",
    "\n",
    "    sbin = np.zeros_like(absgraddir)\n",
    "    sbin[(absgraddir>=thresh[0])&(absgraddir<=thresh[1])] = 1\n",
    "\n",
    "    return sbin\n",
    "\n",
    "def cal_thresh_img(img, thresh_s, thresh_sx, thresh_sy, thresh_mag, thresh_gdir):\n",
    "    sobel_kernel = 3\n",
    "    sobelx, sobely = cal_sobel(img, sobel_kernel)\n",
    "\n",
    "    hls = hls_thresh(img, thresh_s)\n",
    "    sobx = sobel_thresh(sobelx, thresh_sx)\n",
    "    soby = sobel_thresh(sobely, thresh_sy)\n",
    "    mag = mag_thresh(sobelx, sobely, thresh_mag)\n",
    "    \n",
    "    sobelx, sobely = cal_sobel(img, sobel_kernel=15)\n",
    "    gdir = dir_thresh(sobelx, sobely, thresh_gdir)\n",
    "\n",
    "    combined = np.zeros_like(hls)\n",
    "    combined[(((sobx==1)&(soby==1)|((mag==1)&(gdir==1))))&(hls==1)] = 1\n",
    "\n",
    "    return combined\n",
    "\n",
    "# Apply a perspective transform to rectify binary image\n",
    "def warper(img, src, dst):\n",
    "    # Compute and apply perpective transform\n",
    "    img_size = (img.shape[1], img.shape[0])\n",
    "    M = cv2.getPerspectiveTransform(src, dst)\n",
    "    warped = cv2.warpPerspective(img, M, img_size, flags=cv2.INTER_NEAREST)  # keep same size as input image\n",
    "    return warped\n"
   ]
  },
  {
   "cell_type": "code",
   "execution_count": null,
   "metadata": {
    "collapsed": false,
    "deletable": true,
    "editable": true
   },
   "outputs": [],
   "source": [
    "thresh_s = (120, 255)\n",
    "thresh_sx = (20, 100)\n",
    "thresh_sy = (20, 100)\n",
    "thresh_mag = (0, 255)\n",
    "thresh_gdir = (0, np.pi/2)\n",
    "\n",
    "com = cal_thresh_img(undist, thresh_s, thresh_sx, thresh_sy, thresh_mag, thresh_gdir)\n",
    "print(com.dtype)\n",
    "plt.imshow(com, cmap='gray')"
   ]
  },
  {
   "cell_type": "code",
   "execution_count": null,
   "metadata": {
    "collapsed": false
   },
   "outputs": [],
   "source": [
    "src = np.float32([[200, 720], [1100, 720], [595, 450], [685, 450]])\n",
    "dst = np.float32([[300, 720], [980, 720], [300, 0], [980, 0]])\n",
    "warp = warper(com, src, dst)\n",
    "plt.imshow(warp)"
   ]
  },
  {
   "cell_type": "code",
   "execution_count": null,
   "metadata": {
    "collapsed": true
   },
   "outputs": [],
   "source": []
  }
 ],
 "metadata": {
  "anaconda-cloud": {},
  "kernelspec": {
   "display_name": "Python 3",
   "language": "python",
   "name": "python3"
  },
  "language_info": {
   "codemirror_mode": {
    "name": "ipython",
    "version": 3
   },
   "file_extension": ".py",
   "mimetype": "text/x-python",
   "name": "python",
   "nbconvert_exporter": "python",
   "pygments_lexer": "ipython3",
   "version": "3.5.2"
  },
  "widgets": {
   "state": {},
   "version": "1.1.2"
  }
 },
 "nbformat": 4,
 "nbformat_minor": 1
}
